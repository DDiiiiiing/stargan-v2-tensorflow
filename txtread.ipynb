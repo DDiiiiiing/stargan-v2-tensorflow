{
 "cells": [
  {
   "cell_type": "code",
   "execution_count": 16,
   "source": [
    "import os\r\n",
    "\r\n",
    "def read_text() :\r\n",
    "    file_path = r'.\\dataset\\yet_hangul\\practice\\text.txt'\r\n",
    "    unicode_list = []\r\n",
    "\r\n",
    "    f = open(file_path, mode='r', encoding='utf-8')\r\n",
    "    while True:\r\n",
    "        c = f.read(1)\r\n",
    "        if not c: \r\n",
    "            break\r\n",
    "        if c == ' ':\r\n",
    "            continue\r\n",
    "        #print(c, ord(c))\r\n",
    "        unicode_list.append(c)\r\n",
    "    f.close()\r\n",
    "    \r\n",
    "\r\n",
    "    return unicode_list\r\n",
    "\r\n",
    "    "
   ],
   "outputs": [],
   "metadata": {}
  },
  {
   "cell_type": "code",
   "execution_count": 17,
   "source": [
    "import Font2Image as F2I\r\n",
    "import numpy as np\r\n",
    "\r\n",
    "ul = read_text()\r\n",
    "ul.append('\\n')\r\n",
    "print(ul)\r\n",
    "npul = np.array(ul)\r\n",
    "print(npul)\r\n",
    "lf_idx = np.where(npul == '\\n')[0]\r\n",
    "\r\n",
    "print(\"lf_idx\",lf_idx)\r\n",
    "letters_per_line = []\r\n",
    "\r\n",
    "# letters per line\r\n",
    "lf2 = np.insert(lf_idx + 1, 0, 0)\r\n",
    "lf3 = np.append(lf_idx, 0)\r\n",
    "letters_per_line = np.delete((lf3-lf2), -1)\r\n",
    "\r\n",
    "# print(\"lf1\", lf1)\r\n",
    "print(\"lf2\",lf2)\r\n",
    "print(\"lf3\", lf3)\r\n",
    "print(\"lpl\", letters_per_line)\r\n",
    "\r\n",
    "#print(max(lf3))\r\n",
    "#print(len(lf3))"
   ],
   "outputs": [
    {
     "output_type": "stream",
     "name": "stdout",
     "text": [
      "['\\ue1aa', '\\ue1aa', '가', '\\n', '\\uef55', '\\ue166', '\\n', '\\ue176', '\\ue203', '\\ue19c', '\\n', '\\ue166', '\\n', '\\ue176', '\\ue203', '\\n']\n",
      "['\\ue1aa' '\\ue1aa' '가' '\\n' '\\uef55' '\\ue166' '\\n' '\\ue176' '\\ue203'\n",
      " '\\ue19c' '\\n' '\\ue166' '\\n' '\\ue176' '\\ue203' '\\n']\n",
      "lf_idx [ 3  6 10 12 15]\n",
      "lf2 [ 0  4  7 11 13 16]\n",
      "lf3 [ 3  6 10 12 15  0]\n",
      "lpl [3 2 3 1 2]\n"
     ]
    }
   ],
   "metadata": {}
  },
  {
   "cell_type": "code",
   "execution_count": 26,
   "source": [
    "# linefeed character index\r\n",
    "lf1 = []\r\n",
    "for i, idx in enumerate(lf_idx):\r\n",
    "    lf1.append(i+1)    \r\n",
    "linefeed_idx = np.delete((lf_idx-lf1), -1)\r\n",
    "\r\n",
    "print(\"lf1\", lf1)\r\n",
    "print(\"lfi\", linefeed_idx)"
   ],
   "outputs": [
    {
     "output_type": "stream",
     "name": "stdout",
     "text": [
      "lf1 [0, 1, 2, 3, 4]\n",
      "lfi [3 5 8 9]\n"
     ]
    }
   ],
   "metadata": {}
  },
  {
   "cell_type": "code",
   "execution_count": null,
   "source": [
    "[2,4,7,8]"
   ],
   "outputs": [],
   "metadata": {}
  }
 ],
 "metadata": {
  "orig_nbformat": 4,
  "language_info": {
   "name": "python",
   "version": "3.7.11",
   "mimetype": "text/x-python",
   "codemirror_mode": {
    "name": "ipython",
    "version": 3
   },
   "pygments_lexer": "ipython3",
   "nbconvert_exporter": "python",
   "file_extension": ".py"
  },
  "kernelspec": {
   "name": "python3",
   "display_name": "Python 3.7.11 64-bit ('star_gan': conda)"
  },
  "interpreter": {
   "hash": "6b75591b9a66b75f4cffd9bd2feff7089253b3ac50a159d738964061b5e9c7e0"
  }
 },
 "nbformat": 4,
 "nbformat_minor": 2
}