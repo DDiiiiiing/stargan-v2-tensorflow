{
 "cells": [
  {
   "cell_type": "code",
   "execution_count": 37,
   "source": [
    "import os\r\n",
    "\r\n",
    "def read_text() :\r\n",
    "    file_path = r'.\\dataset\\yet_hangul\\practice\\text.txt'\r\n",
    "    unicode_list = []\r\n",
    "\r\n",
    "    f = open(file_path, mode='r', encoding='utf-8')\r\n",
    "    while True:\r\n",
    "        c = f.read(1)\r\n",
    "        if not c: \r\n",
    "            break\r\n",
    "        unicode_list.append(hex(ord(c)))\r\n",
    "    f.close()\r\n",
    "    \r\n",
    "    print(unicode_list)"
   ],
   "outputs": [],
   "metadata": {}
  },
  {
   "cell_type": "code",
   "execution_count": 38,
   "source": [
    "read_text()"
   ],
   "outputs": [
    {
     "output_type": "stream",
     "name": "stdout",
     "text": [
      "0xe1aa\n",
      "0xe1aa\n",
      "0xa\n",
      "0xef55\n",
      "0xe166\n",
      "0xe176\n",
      "0xe203\n",
      "0xe19c\n",
      "['0xe1aa', '0xe1aa', '0xa', '0xef55', '0xe166', '0xe176', '0xe203', '0xe19c']\n"
     ]
    }
   ],
   "metadata": {}
  }
 ],
 "metadata": {
  "orig_nbformat": 4,
  "language_info": {
   "name": "python",
   "version": "3.7.11",
   "mimetype": "text/x-python",
   "codemirror_mode": {
    "name": "ipython",
    "version": 3
   },
   "pygments_lexer": "ipython3",
   "nbconvert_exporter": "python",
   "file_extension": ".py"
  },
  "kernelspec": {
   "name": "python3",
   "display_name": "Python 3.7.11 64-bit ('star_gan': conda)"
  },
  "interpreter": {
   "hash": "6b75591b9a66b75f4cffd9bd2feff7089253b3ac50a159d738964061b5e9c7e0"
  }
 },
 "nbformat": 4,
 "nbformat_minor": 2
}